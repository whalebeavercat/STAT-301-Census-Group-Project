{
 "cells": [
  {
   "cell_type": "markdown",
   "id": "a026d584-c12b-436d-a854-5b3c723f1301",
   "metadata": {},
   "source": [
    "# STAT 301 Final Group Project"
   ]
  },
  {
   "cell_type": "code",
   "execution_count": null,
   "id": "e3435b29-38be-4683-9d02-5709cac483c1",
   "metadata": {},
   "outputs": [],
   "source": []
  }
 ],
 "metadata": {
  "kernelspec": {
   "display_name": "R",
   "language": "R",
   "name": "ir"
  },
  "language_info": {
   "codemirror_mode": "r",
   "file_extension": ".r",
   "mimetype": "text/x-r-source",
   "name": "R",
   "pygments_lexer": "r",
   "version": "4.2.3"
  }
 },
 "nbformat": 4,
 "nbformat_minor": 5
}
