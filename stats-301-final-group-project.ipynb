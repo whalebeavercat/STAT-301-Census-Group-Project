{
 "cells": [
  {
   "cell_type": "markdown",
   "id": "a026d584-c12b-436d-a854-5b3c723f1301",
   "metadata": {},
   "source": [
    "# STAT 301 Final Group Project"
   ]
  },
  {
   "cell_type": "code",
   "execution_count": 10,
   "id": "760d723b-32cb-457d-b3f2-bbe87cc9ed10",
   "metadata": {
    "tags": []
   },
   "outputs": [
    {
     "name": "stderr",
     "output_type": "stream",
     "text": [
      "── \u001b[1mAttaching packages\u001b[22m ────────────────────────────────────── tidymodels 1.1.1 ──\n",
      "\n",
      "\u001b[32m✔\u001b[39m \u001b[34mbroom       \u001b[39m 1.0.5     \u001b[32m✔\u001b[39m \u001b[34mrsample     \u001b[39m 1.2.0\n",
      "\u001b[32m✔\u001b[39m \u001b[34mdials       \u001b[39m 1.2.0     \u001b[32m✔\u001b[39m \u001b[34mtune        \u001b[39m 1.1.2\n",
      "\u001b[32m✔\u001b[39m \u001b[34minfer       \u001b[39m 1.0.5     \u001b[32m✔\u001b[39m \u001b[34mworkflows   \u001b[39m 1.1.3\n",
      "\u001b[32m✔\u001b[39m \u001b[34mmodeldata   \u001b[39m 1.2.0     \u001b[32m✔\u001b[39m \u001b[34mworkflowsets\u001b[39m 1.0.1\n",
      "\u001b[32m✔\u001b[39m \u001b[34mparsnip     \u001b[39m 1.1.1     \u001b[32m✔\u001b[39m \u001b[34myardstick   \u001b[39m 1.2.0\n",
      "\u001b[32m✔\u001b[39m \u001b[34mrecipes     \u001b[39m 1.0.8     \n",
      "\n",
      "── \u001b[1mConflicts\u001b[22m ───────────────────────────────────────── tidymodels_conflicts() ──\n",
      "\u001b[31m✖\u001b[39m \u001b[34mscales\u001b[39m::\u001b[32mdiscard()\u001b[39m masks \u001b[34mpurrr\u001b[39m::discard()\n",
      "\u001b[31m✖\u001b[39m \u001b[34mdplyr\u001b[39m::\u001b[32mfilter()\u001b[39m   masks \u001b[34mstats\u001b[39m::filter()\n",
      "\u001b[31m✖\u001b[39m \u001b[34mrecipes\u001b[39m::\u001b[32mfixed()\u001b[39m  masks \u001b[34mstringr\u001b[39m::fixed()\n",
      "\u001b[31m✖\u001b[39m \u001b[34mdplyr\u001b[39m::\u001b[32mlag()\u001b[39m      masks \u001b[34mstats\u001b[39m::lag()\n",
      "\u001b[31m✖\u001b[39m \u001b[34myardstick\u001b[39m::\u001b[32mspec()\u001b[39m masks \u001b[34mreadr\u001b[39m::spec()\n",
      "\u001b[31m✖\u001b[39m \u001b[34mrecipes\u001b[39m::\u001b[32mstep()\u001b[39m   masks \u001b[34mstats\u001b[39m::step()\n",
      "\u001b[34m•\u001b[39m Use \u001b[32mtidymodels_prefer()\u001b[39m to resolve common conflicts.\n",
      "\n",
      "\n",
      "Attaching package: ‘cowplot’\n",
      "\n",
      "\n",
      "The following object is masked from ‘package:lubridate’:\n",
      "\n",
      "    stamp\n",
      "\n",
      "\n",
      "Registered S3 method overwritten by 'GGally':\n",
      "  method from   \n",
      "  +.gg   ggplot2\n",
      "\n",
      "\n",
      "Attaching package: ‘gridExtra’\n",
      "\n",
      "\n",
      "The following object is masked from ‘package:dplyr’:\n",
      "\n",
      "    combine\n",
      "\n",
      "\n"
     ]
    }
   ],
   "source": [
    "library(dplyr)\n",
    "library(tidymodels)\n",
    "library(infer)\n",
    "library(cowplot)\n",
    "library(GGally)\n",
    "library(ggplot2)\n",
    "library(grid)\n",
    "library(gridExtra) "
   ]
  },
  {
   "cell_type": "markdown",
   "id": "6fa7d8a2-e513-4acf-bebb-32762f2c003c",
   "metadata": {
    "tags": []
   },
   "source": [
    "## Importing the Dataset"
   ]
  },
  {
   "cell_type": "code",
   "execution_count": 7,
   "id": "0e769c78-64c2-4c5e-bc97-d1bdbc18f28a",
   "metadata": {
    "tags": []
   },
   "outputs": [
    {
     "data": {
      "text/html": [
       "<table class=\"dataframe\">\n",
       "<caption>A tibble: 6 × 15</caption>\n",
       "<thead>\n",
       "\t<tr><th scope=col>age</th><th scope=col>workclass</th><th scope=col>fnlwgt</th><th scope=col>education</th><th scope=col>education-num</th><th scope=col>marital-status</th><th scope=col>occupation</th><th scope=col>relationship</th><th scope=col>race</th><th scope=col>sex</th><th scope=col>capital-gain</th><th scope=col>capital-loss</th><th scope=col>hours-per-week</th><th scope=col>native-country</th><th scope=col>income</th></tr>\n",
       "\t<tr><th scope=col>&lt;dbl&gt;</th><th scope=col>&lt;chr&gt;</th><th scope=col>&lt;dbl&gt;</th><th scope=col>&lt;chr&gt;</th><th scope=col>&lt;dbl&gt;</th><th scope=col>&lt;chr&gt;</th><th scope=col>&lt;chr&gt;</th><th scope=col>&lt;chr&gt;</th><th scope=col>&lt;chr&gt;</th><th scope=col>&lt;chr&gt;</th><th scope=col>&lt;dbl&gt;</th><th scope=col>&lt;dbl&gt;</th><th scope=col>&lt;dbl&gt;</th><th scope=col>&lt;chr&gt;</th><th scope=col>&lt;chr&gt;</th></tr>\n",
       "</thead>\n",
       "<tbody>\n",
       "\t<tr><td>39</td><td><span style=white-space:pre-wrap>State-gov       </span></td><td> 77516</td><td>Bachelors</td><td>13</td><td><span style=white-space:pre-wrap>Never-married     </span></td><td><span style=white-space:pre-wrap>Adm-clerical     </span></td><td>Not-in-family</td><td>White</td><td><span style=white-space:pre-wrap>Male  </span></td><td>2174</td><td>0</td><td>40</td><td>United-States</td><td>&lt;=50K</td></tr>\n",
       "\t<tr><td>50</td><td>Self-emp-not-inc</td><td> 83311</td><td>Bachelors</td><td>13</td><td>Married-civ-spouse</td><td><span style=white-space:pre-wrap>Exec-managerial  </span></td><td><span style=white-space:pre-wrap>Husband      </span></td><td>White</td><td><span style=white-space:pre-wrap>Male  </span></td><td><span style=white-space:pre-wrap>   0</span></td><td>0</td><td>13</td><td>United-States</td><td>&lt;=50K</td></tr>\n",
       "\t<tr><td>38</td><td><span style=white-space:pre-wrap>Private         </span></td><td>215646</td><td><span style=white-space:pre-wrap>HS-grad  </span></td><td> 9</td><td><span style=white-space:pre-wrap>Divorced          </span></td><td>Handlers-cleaners</td><td>Not-in-family</td><td>White</td><td><span style=white-space:pre-wrap>Male  </span></td><td><span style=white-space:pre-wrap>   0</span></td><td>0</td><td>40</td><td>United-States</td><td>&lt;=50K</td></tr>\n",
       "\t<tr><td>53</td><td><span style=white-space:pre-wrap>Private         </span></td><td>234721</td><td><span style=white-space:pre-wrap>11th     </span></td><td> 7</td><td>Married-civ-spouse</td><td>Handlers-cleaners</td><td><span style=white-space:pre-wrap>Husband      </span></td><td>Black</td><td><span style=white-space:pre-wrap>Male  </span></td><td><span style=white-space:pre-wrap>   0</span></td><td>0</td><td>40</td><td>United-States</td><td>&lt;=50K</td></tr>\n",
       "\t<tr><td>28</td><td><span style=white-space:pre-wrap>Private         </span></td><td>338409</td><td>Bachelors</td><td>13</td><td>Married-civ-spouse</td><td><span style=white-space:pre-wrap>Prof-specialty   </span></td><td><span style=white-space:pre-wrap>Wife         </span></td><td>Black</td><td>Female</td><td><span style=white-space:pre-wrap>   0</span></td><td>0</td><td>40</td><td><span style=white-space:pre-wrap>Cuba         </span></td><td>&lt;=50K</td></tr>\n",
       "\t<tr><td>37</td><td><span style=white-space:pre-wrap>Private         </span></td><td>284582</td><td><span style=white-space:pre-wrap>Masters  </span></td><td>14</td><td>Married-civ-spouse</td><td><span style=white-space:pre-wrap>Exec-managerial  </span></td><td><span style=white-space:pre-wrap>Wife         </span></td><td>White</td><td>Female</td><td><span style=white-space:pre-wrap>   0</span></td><td>0</td><td>40</td><td>United-States</td><td>&lt;=50K</td></tr>\n",
       "</tbody>\n",
       "</table>\n"
      ],
      "text/latex": [
       "A tibble: 6 × 15\n",
       "\\begin{tabular}{lllllllllllllll}\n",
       " age & workclass & fnlwgt & education & education-num & marital-status & occupation & relationship & race & sex & capital-gain & capital-loss & hours-per-week & native-country & income\\\\\n",
       " <dbl> & <chr> & <dbl> & <chr> & <dbl> & <chr> & <chr> & <chr> & <chr> & <chr> & <dbl> & <dbl> & <dbl> & <chr> & <chr>\\\\\n",
       "\\hline\n",
       "\t 39 & State-gov        &  77516 & Bachelors & 13 & Never-married      & Adm-clerical      & Not-in-family & White & Male   & 2174 & 0 & 40 & United-States & <=50K\\\\\n",
       "\t 50 & Self-emp-not-inc &  83311 & Bachelors & 13 & Married-civ-spouse & Exec-managerial   & Husband       & White & Male   &    0 & 0 & 13 & United-States & <=50K\\\\\n",
       "\t 38 & Private          & 215646 & HS-grad   &  9 & Divorced           & Handlers-cleaners & Not-in-family & White & Male   &    0 & 0 & 40 & United-States & <=50K\\\\\n",
       "\t 53 & Private          & 234721 & 11th      &  7 & Married-civ-spouse & Handlers-cleaners & Husband       & Black & Male   &    0 & 0 & 40 & United-States & <=50K\\\\\n",
       "\t 28 & Private          & 338409 & Bachelors & 13 & Married-civ-spouse & Prof-specialty    & Wife          & Black & Female &    0 & 0 & 40 & Cuba          & <=50K\\\\\n",
       "\t 37 & Private          & 284582 & Masters   & 14 & Married-civ-spouse & Exec-managerial   & Wife          & White & Female &    0 & 0 & 40 & United-States & <=50K\\\\\n",
       "\\end{tabular}\n"
      ],
      "text/markdown": [
       "\n",
       "A tibble: 6 × 15\n",
       "\n",
       "| age &lt;dbl&gt; | workclass &lt;chr&gt; | fnlwgt &lt;dbl&gt; | education &lt;chr&gt; | education-num &lt;dbl&gt; | marital-status &lt;chr&gt; | occupation &lt;chr&gt; | relationship &lt;chr&gt; | race &lt;chr&gt; | sex &lt;chr&gt; | capital-gain &lt;dbl&gt; | capital-loss &lt;dbl&gt; | hours-per-week &lt;dbl&gt; | native-country &lt;chr&gt; | income &lt;chr&gt; |\n",
       "|---|---|---|---|---|---|---|---|---|---|---|---|---|---|---|\n",
       "| 39 | State-gov        |  77516 | Bachelors | 13 | Never-married      | Adm-clerical      | Not-in-family | White | Male   | 2174 | 0 | 40 | United-States | &lt;=50K |\n",
       "| 50 | Self-emp-not-inc |  83311 | Bachelors | 13 | Married-civ-spouse | Exec-managerial   | Husband       | White | Male   |    0 | 0 | 13 | United-States | &lt;=50K |\n",
       "| 38 | Private          | 215646 | HS-grad   |  9 | Divorced           | Handlers-cleaners | Not-in-family | White | Male   |    0 | 0 | 40 | United-States | &lt;=50K |\n",
       "| 53 | Private          | 234721 | 11th      |  7 | Married-civ-spouse | Handlers-cleaners | Husband       | Black | Male   |    0 | 0 | 40 | United-States | &lt;=50K |\n",
       "| 28 | Private          | 338409 | Bachelors | 13 | Married-civ-spouse | Prof-specialty    | Wife          | Black | Female |    0 | 0 | 40 | Cuba          | &lt;=50K |\n",
       "| 37 | Private          | 284582 | Masters   | 14 | Married-civ-spouse | Exec-managerial   | Wife          | White | Female |    0 | 0 | 40 | United-States | &lt;=50K |\n",
       "\n"
      ],
      "text/plain": [
       "  age workclass        fnlwgt education education-num marital-status    \n",
       "1 39  State-gov         77516 Bachelors 13            Never-married     \n",
       "2 50  Self-emp-not-inc  83311 Bachelors 13            Married-civ-spouse\n",
       "3 38  Private          215646 HS-grad    9            Divorced          \n",
       "4 53  Private          234721 11th       7            Married-civ-spouse\n",
       "5 28  Private          338409 Bachelors 13            Married-civ-spouse\n",
       "6 37  Private          284582 Masters   14            Married-civ-spouse\n",
       "  occupation        relationship  race  sex    capital-gain capital-loss\n",
       "1 Adm-clerical      Not-in-family White Male   2174         0           \n",
       "2 Exec-managerial   Husband       White Male      0         0           \n",
       "3 Handlers-cleaners Not-in-family White Male      0         0           \n",
       "4 Handlers-cleaners Husband       Black Male      0         0           \n",
       "5 Prof-specialty    Wife          Black Female    0         0           \n",
       "6 Exec-managerial   Wife          White Female    0         0           \n",
       "  hours-per-week native-country income\n",
       "1 40             United-States  <=50K \n",
       "2 13             United-States  <=50K \n",
       "3 40             United-States  <=50K \n",
       "4 40             United-States  <=50K \n",
       "5 40             Cuba           <=50K \n",
       "6 40             United-States  <=50K "
      ]
     },
     "metadata": {},
     "output_type": "display_data"
    },
    {
     "data": {
      "text/html": [
       "32561"
      ],
      "text/latex": [
       "32561"
      ],
      "text/markdown": [
       "32561"
      ],
      "text/plain": [
       "[1] 32561"
      ]
     },
     "metadata": {},
     "output_type": "display_data"
    }
   ],
   "source": [
    "# Load data with correct columns\n",
    "census_data <- read_csv(\"https://github.com/whalebeavercat/STAT-301-Census-Project/blob/main/data/adult.data?raw=TRUE\", col_names = FALSE, show_col_types = FALSE)\n",
    "col_names = c(\"age\", \"workclass\", \"fnlwgt\", \"education\", \"education-num\", \"marital-status\", \"occupation\", \"relationship\", \"race\", \"sex\", \"capital-gain\", \"capital-loss\", \"hours-per-week\", \"native-country\", \"income\")\n",
    "colnames(census_data) <- col_names\n",
    "\n",
    "head(census_data)\n",
    "nrow(census_data)"
   ]
  },
  {
   "cell_type": "markdown",
   "id": "dfc8dcac-f072-4c93-8326-53668e5596f3",
   "metadata": {},
   "source": [
    "`Table 1`: Initial Dataset"
   ]
  },
  {
   "cell_type": "markdown",
   "id": "9df631eb-c1f8-4cf9-8b95-45386cb55119",
   "metadata": {},
   "source": [
    "### Dataset Summary"
   ]
  },
  {
   "cell_type": "markdown",
   "id": "a329d1a0-8dc2-4d73-87a1-31a60611631a",
   "metadata": {},
   "source": [
    "The dataset being explored is the [1994 Census Income Data Set](https://archive.ics.uci.edu/dataset/2/adult) that explores personal annual income of US citizens in 1994. It is a reasonably clean dataset but it has some missing values in the coloumns *workclass*, *occupation*, and *native-country*. These missing values have been entered as \"?\" and will be removed from the dataset. The variables present in the dataset are:\n",
    "\n",
    "- `age`: numeric variable, the age of a person in years. Only individuals with `age` > 16 were considered.\n",
    "- `workclass`: categorical variable, type chr, represents the type of employement, such as Private, Self-emp-not-inc, Self-emp-inc, Federal-gov, Local-gov, State-gov, Without-pay, Never-worked.\n",
    "- `fnlwgt`: numeric variable, represent the final weight, meaning the number of people the census believes are represented by all the features in the row\n",
    "- `education`: categorical variable, type chr, represents the highest education level obtained, such as Bachelors, Some-college, 11th, HS-grad, Prof-school, Assoc-acdm, Assoc-voc, 9th, 7th-8th, 12th, Masters, 1st-4th, 10th, Doctorate, 5th-6th, Preschool.\n",
    "- `education-num`: numeric variable, the highest education level obtained in numeric form\n",
    "- `marital-status`: categorical variable, type chr, represents the marital status for both civilian and Armed Forces marriages, such as Married-civ-spouse, Divorced, Never-married, Separated, Widowed, Married-spouse-absent, Married-AF-spouse.\n",
    "- `occupation`: categorical variable, type chr, represents the type of occupation the person has, such Tech-support, Craft-repair, Other-service, Sales, Exec-managerial, Prof-specialty, Handlers-cleaners, Machine-op-inspct, Adm-clerical, Farming-fishing, Transport-moving, Priv-house-serv, Protective-serv, Armed-Forces.\n",
    "- `relationship`: categorical variable, type chr, represents the relations the person has to others, similar to `maritial-status`, such as Wife, Own-child, Husband, Not-in-family, Other-relative, Unmarried.\n",
    "- `race`: categorical variable, type chr, represents the race of the individual, such as White, Asian-Pac-Islander, Amer-Indian-Eskimo, Other, Black.\n",
    "- `sex`: categorical variable, type chr, represents the biological sex, such as Female, Male.\n",
    "- `capital-gain`: numeric variable, the capital gain for the individual or profit made by selling assets.\n",
    "- `capital-loss`: numeric variable, the capital loss for the individual or loss from selling assets.\n",
    "- `hours-per-week`: numeric variable, the number of hours per week the individual works.\n",
    "- `native-country`: categorical variable, the country where the individual is born, such as United-States, Cambodia, England, Puerto-Rico, Canada, Germany, Outlying-US(Guam-USVI-etc), India, Japan, Greece, South, China, Cuba, Iran, Honduras, Philippines, Italy, Poland, Jamaica, Vietnam, Mexico, Portugal, Ireland, France, Dominican-Republic, Laos, Ecuador, Taiwan, Haiti, Columbia, Hungary, Guatemala, Nicaragua, Scotland, Thailand, Yugoslavia, El-Salvador, Trinadad&Tobago, Peru, Hong, Holand-Netherlands.\n",
    "- `income`: categorical variable, type logical, whether the individual makes <=50K or > 50K"
   ]
  },
  {
   "cell_type": "markdown",
   "id": "bbed83e1-b01a-4b21-9849-2b4f0d830bc1",
   "metadata": {},
   "source": [
    "### Question\n",
    "The proposed question for this project is: Can we predict whether an individual earns >50K USD per year based on an individuals' `age`, `race`, education level (`education-num`), and `sex`. The aim of this project is to explore any significant bias in the income of an individual and thier personal background, which can be used to further explore a broader interest in understanding the complex interplay of numerous demographic factors in shaping individuals' income.\n",
    "\n"
   ]
  },
  {
   "cell_type": "markdown",
   "id": "e5c0153f-3745-431a-bc1d-4dccef4f90e3",
   "metadata": {
    "tags": []
   },
   "source": [
    "## Exploratory Data Analysis\n",
    "\n",
    "### Cleaning and Wrangling the Dataset\n",
    "Any row which contains the value \"?\" would be filtered out and the filtered dataset would then be processed again to remove all the unnecessary coloumns from the filtered dataset. This leaves us with a dataset with 30162 rows and 5 columns"
   ]
  },
  {
   "cell_type": "code",
   "execution_count": 9,
   "id": "e129c126-1a1f-4c1f-a4cf-5c3948690c70",
   "metadata": {
    "tags": []
   },
   "outputs": [
    {
     "data": {
      "text/html": [
       "<table class=\"dataframe\">\n",
       "<caption>A tibble: 6 × 5</caption>\n",
       "<thead>\n",
       "\t<tr><th scope=col>age</th><th scope=col>education-num</th><th scope=col>race</th><th scope=col>sex</th><th scope=col>income</th></tr>\n",
       "\t<tr><th scope=col>&lt;dbl&gt;</th><th scope=col>&lt;dbl&gt;</th><th scope=col>&lt;chr&gt;</th><th scope=col>&lt;chr&gt;</th><th scope=col>&lt;chr&gt;</th></tr>\n",
       "</thead>\n",
       "<tbody>\n",
       "\t<tr><td>39</td><td>13</td><td>White</td><td><span style=white-space:pre-wrap>Male  </span></td><td>&lt;=50K</td></tr>\n",
       "\t<tr><td>50</td><td>13</td><td>White</td><td><span style=white-space:pre-wrap>Male  </span></td><td>&lt;=50K</td></tr>\n",
       "\t<tr><td>38</td><td> 9</td><td>White</td><td><span style=white-space:pre-wrap>Male  </span></td><td>&lt;=50K</td></tr>\n",
       "\t<tr><td>53</td><td> 7</td><td>Black</td><td><span style=white-space:pre-wrap>Male  </span></td><td>&lt;=50K</td></tr>\n",
       "\t<tr><td>28</td><td>13</td><td>Black</td><td>Female</td><td>&lt;=50K</td></tr>\n",
       "\t<tr><td>37</td><td>14</td><td>White</td><td>Female</td><td>&lt;=50K</td></tr>\n",
       "</tbody>\n",
       "</table>\n"
      ],
      "text/latex": [
       "A tibble: 6 × 5\n",
       "\\begin{tabular}{lllll}\n",
       " age & education-num & race & sex & income\\\\\n",
       " <dbl> & <dbl> & <chr> & <chr> & <chr>\\\\\n",
       "\\hline\n",
       "\t 39 & 13 & White & Male   & <=50K\\\\\n",
       "\t 50 & 13 & White & Male   & <=50K\\\\\n",
       "\t 38 &  9 & White & Male   & <=50K\\\\\n",
       "\t 53 &  7 & Black & Male   & <=50K\\\\\n",
       "\t 28 & 13 & Black & Female & <=50K\\\\\n",
       "\t 37 & 14 & White & Female & <=50K\\\\\n",
       "\\end{tabular}\n"
      ],
      "text/markdown": [
       "\n",
       "A tibble: 6 × 5\n",
       "\n",
       "| age &lt;dbl&gt; | education-num &lt;dbl&gt; | race &lt;chr&gt; | sex &lt;chr&gt; | income &lt;chr&gt; |\n",
       "|---|---|---|---|---|\n",
       "| 39 | 13 | White | Male   | &lt;=50K |\n",
       "| 50 | 13 | White | Male   | &lt;=50K |\n",
       "| 38 |  9 | White | Male   | &lt;=50K |\n",
       "| 53 |  7 | Black | Male   | &lt;=50K |\n",
       "| 28 | 13 | Black | Female | &lt;=50K |\n",
       "| 37 | 14 | White | Female | &lt;=50K |\n",
       "\n"
      ],
      "text/plain": [
       "  age education-num race  sex    income\n",
       "1 39  13            White Male   <=50K \n",
       "2 50  13            White Male   <=50K \n",
       "3 38   9            White Male   <=50K \n",
       "4 53   7            Black Male   <=50K \n",
       "5 28  13            Black Female <=50K \n",
       "6 37  14            White Female <=50K "
      ]
     },
     "metadata": {},
     "output_type": "display_data"
    },
    {
     "data": {
      "text/html": [
       "30162"
      ],
      "text/latex": [
       "30162"
      ],
      "text/markdown": [
       "30162"
      ],
      "text/plain": [
       "[1] 30162"
      ]
     },
     "metadata": {},
     "output_type": "display_data"
    }
   ],
   "source": [
    "census_data_clean <- census_data %>%\n",
    "    filter_all(all_vars(. != \"?\")) %>%\n",
    "    select(age, `education-num`, race, sex, income)\n",
    "head(census_data_clean)\n",
    "nrow(census_data_clean)"
   ]
  },
  {
   "cell_type": "markdown",
   "id": "5bc6fcc1-5327-4d2f-8374-63a3017112d2",
   "metadata": {},
   "source": [
    "`Table 2`: Wrangled and Cleaned Dataset"
   ]
  },
  {
   "cell_type": "markdown",
   "id": "2fb6a252-fbe6-4b28-8872-3fe8ed625e93",
   "metadata": {},
   "source": [
    "Given that the origninal dataset is a census dataset with large populations and various categories, it is more appropriate to take a sample from it. Taking a random sample can help identify trends, outliers, and potential issues without processing the entire dataset, improving computational efficiency. A simple random sample of size 1000 should be a good start as the sample is small enough to avoid introducing any biases. This sample dataset will then be s"
   ]
  },
  {
   "cell_type": "code",
   "execution_count": 14,
   "id": "a49d15ef-1b2b-45bb-8697-7853762dea1d",
   "metadata": {
    "tags": []
   },
   "outputs": [
    {
     "data": {
      "text/html": [
       "<table class=\"dataframe\">\n",
       "<caption>A tibble: 6 × 5</caption>\n",
       "<thead>\n",
       "\t<tr><th scope=col>age</th><th scope=col>education-num</th><th scope=col>race</th><th scope=col>sex</th><th scope=col>income</th></tr>\n",
       "\t<tr><th scope=col>&lt;dbl&gt;</th><th scope=col>&lt;dbl&gt;</th><th scope=col>&lt;chr&gt;</th><th scope=col>&lt;chr&gt;</th><th scope=col>&lt;chr&gt;</th></tr>\n",
       "</thead>\n",
       "<tbody>\n",
       "\t<tr><td>37</td><td>13</td><td>White</td><td>Female</td><td>&lt;=50K</td></tr>\n",
       "\t<tr><td>24</td><td> 9</td><td>White</td><td><span style=white-space:pre-wrap>Male  </span></td><td>&lt;=50K</td></tr>\n",
       "\t<tr><td>17</td><td> 6</td><td>White</td><td><span style=white-space:pre-wrap>Male  </span></td><td>&lt;=50K</td></tr>\n",
       "\t<tr><td>23</td><td>10</td><td>White</td><td>Female</td><td>&lt;=50K</td></tr>\n",
       "\t<tr><td>19</td><td>10</td><td>White</td><td>Female</td><td>&lt;=50K</td></tr>\n",
       "\t<tr><td>44</td><td> 9</td><td>White</td><td><span style=white-space:pre-wrap>Male  </span></td><td>&lt;=50K</td></tr>\n",
       "</tbody>\n",
       "</table>\n"
      ],
      "text/latex": [
       "A tibble: 6 × 5\n",
       "\\begin{tabular}{lllll}\n",
       " age & education-num & race & sex & income\\\\\n",
       " <dbl> & <dbl> & <chr> & <chr> & <chr>\\\\\n",
       "\\hline\n",
       "\t 37 & 13 & White & Female & <=50K\\\\\n",
       "\t 24 &  9 & White & Male   & <=50K\\\\\n",
       "\t 17 &  6 & White & Male   & <=50K\\\\\n",
       "\t 23 & 10 & White & Female & <=50K\\\\\n",
       "\t 19 & 10 & White & Female & <=50K\\\\\n",
       "\t 44 &  9 & White & Male   & <=50K\\\\\n",
       "\\end{tabular}\n"
      ],
      "text/markdown": [
       "\n",
       "A tibble: 6 × 5\n",
       "\n",
       "| age &lt;dbl&gt; | education-num &lt;dbl&gt; | race &lt;chr&gt; | sex &lt;chr&gt; | income &lt;chr&gt; |\n",
       "|---|---|---|---|---|\n",
       "| 37 | 13 | White | Female | &lt;=50K |\n",
       "| 24 |  9 | White | Male   | &lt;=50K |\n",
       "| 17 |  6 | White | Male   | &lt;=50K |\n",
       "| 23 | 10 | White | Female | &lt;=50K |\n",
       "| 19 | 10 | White | Female | &lt;=50K |\n",
       "| 44 |  9 | White | Male   | &lt;=50K |\n",
       "\n"
      ],
      "text/plain": [
       "  age education-num race  sex    income\n",
       "1 37  13            White Female <=50K \n",
       "2 24   9            White Male   <=50K \n",
       "3 17   6            White Male   <=50K \n",
       "4 23  10            White Female <=50K \n",
       "5 19  10            White Female <=50K \n",
       "6 44   9            White Male   <=50K "
      ]
     },
     "metadata": {},
     "output_type": "display_data"
    }
   ],
   "source": [
    "sample_data <- census_data_clean %>%\n",
    "    sample_n(size = 1000)\n",
    "head(sample_data)\n",
    "\n",
    "df_split <- initial_split(sample_data, prop = 0.8, strata = age)\n",
    "df_train <- training(df_split)\n",
    "df_test <- testing(df_split)"
   ]
  },
  {
   "cell_type": "markdown",
   "id": "6048bd63-22d4-407c-baff-4b634ae88a80",
   "metadata": {},
   "source": [
    "`Table 3`: Sampled Data"
   ]
  },
  {
   "cell_type": "markdown",
   "id": "f04e4a77-8b4e-4e67-ba4a-4e1dcb52aff2",
   "metadata": {},
   "source": [
    "### Data Visualization"
   ]
  },
  {
   "cell_type": "code",
   "execution_count": null,
   "id": "209a9cd3-d928-43ab-a23f-57ace462667a",
   "metadata": {},
   "outputs": [],
   "source": []
  }
 ],
 "metadata": {
  "kernelspec": {
   "display_name": "R",
   "language": "R",
   "name": "ir"
  },
  "language_info": {
   "codemirror_mode": "r",
   "file_extension": ".r",
   "mimetype": "text/x-r-source",
   "name": "R",
   "pygments_lexer": "r",
   "version": "4.2.3"
  }
 },
 "nbformat": 4,
 "nbformat_minor": 5
}
